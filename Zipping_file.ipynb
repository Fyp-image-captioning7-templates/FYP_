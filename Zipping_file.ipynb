{
  "cells": [
    {
      "cell_type": "markdown",
      "metadata": {
        "id": "view-in-github",
        "colab_type": "text"
      },
      "source": [
        "<a href=\"https://colab.research.google.com/github/Subeska/FYP_/blob/main/Zipping_file.ipynb\" target=\"_parent\"><img src=\"https://colab.research.google.com/assets/colab-badge.svg\" alt=\"Open In Colab\"/></a>"
      ]
    },
    {
      "cell_type": "code",
      "execution_count": null,
      "metadata": {
        "colab": {
          "base_uri": "https://localhost:8080/"
        },
        "id": "3tVe2iOrFW62",
        "outputId": "258188a4-3f44-43e2-95b7-65ae1d5a8b94"
      },
      "outputs": [
        {
          "output_type": "stream",
          "name": "stdout",
          "text": [
            "Mounted at /content/drive\n"
          ]
        }
      ],
      "source": [
        "from google.colab import drive\n",
        "drive.mount(\"/content/drive\")"
      ]
    },
    {
      "cell_type": "code",
      "execution_count": null,
      "metadata": {
        "id": "hk-M31KmF7a-"
      },
      "outputs": [],
      "source": [
        "from zipfile import ZipFile\n",
        "import os"
      ]
    },
    {
      "cell_type": "code",
      "execution_count": null,
      "metadata": {
        "id": "rakpCaiGGCF_"
      },
      "outputs": [],
      "source": [
        "from google.colab import auth\n",
        "auth.authenticate_user()\n",
        "\n"
      ]
    },
    {
      "cell_type": "code",
      "execution_count": null,
      "metadata": {
        "id": "EppntPi5JVxz"
      },
      "outputs": [],
      "source": [
        "import os\n",
        "os.chdir('/content/drive/MyDrive/Sub-GC/misc')\n"
      ]
    },
    {
      "cell_type": "code",
      "execution_count": null,
      "metadata": {
        "colab": {
          "base_uri": "https://localhost:8080/"
        },
        "id": "dMkq3uj9J2-G",
        "outputId": "f4d6376b-17aa-4be5-bc11-916e8a4e0a64"
      },
      "outputs": [
        {
          "output_type": "stream",
          "name": "stdout",
          "text": [
            "  adding: consensus_reranking/ (stored 0%)\n",
            "  adding: consensus_reranking/image_features_mRNN/ (stored 0%)\n",
            "  adding: consensus_reranking/image_features_mRNN/res_feat_101_dct_mscoco_2014.npy (deflated 10%)\n",
            "  adding: consensus_reranking/image_features_mRNN/res_feat_101_dct_flickr30k.npy (deflated 10%)\n",
            "  adding: consensus_reranking/mscoco_anno_files/ (stored 0%)\n",
            "  adding: consensus_reranking/mscoco_anno_files/anno_list_mscoco_trainModelVal_m_RNN.npy (deflated 71%)\n",
            "  adding: consensus_reranking/mscoco_anno_files/karpathy_train_val_anno_list.npy (deflated 71%)\n",
            "  adding: consensus_reranking/mscoco_anno_files/flickr30k_karpathy_train_val_anno_list.npy (deflated 68%)\n",
            "  adding: grounding/ (stored 0%)\n",
            "  adding: grounding/flickr30k_cleaned_class.json (deflated 87%)\n"
          ]
        }
      ],
      "source": [
        "!zip -r /content/drive/MyDrive/Sub-GCmisc_file.zip *\n"
      ]
    },
    {
      "cell_type": "code",
      "source": [
        "!zip -r /content/drive/MyDrive/Sub-GCpretrained_file.zip *"
      ],
      "metadata": {
        "colab": {
          "base_uri": "https://localhost:8080/"
        },
        "id": "vQ43XT3YUYE8",
        "outputId": "d3909b55-3aac-4372-fb4e-27bb38b6da65"
      },
      "execution_count": null,
      "outputs": [
        {
          "output_type": "stream",
          "name": "stdout",
          "text": [
            "  adding: consensus_reranking/ (stored 0%)\n",
            "  adding: consensus_reranking/image_features_mRNN/ (stored 0%)\n",
            "  adding: consensus_reranking/image_features_mRNN/res_feat_101_dct_mscoco_2014.npy (deflated 10%)\n",
            "  adding: consensus_reranking/image_features_mRNN/res_feat_101_dct_flickr30k.npy\n",
            "\n",
            "\n",
            "zip error: Interrupted (aborting)\n"
          ]
        }
      ]
    },
    {
      "cell_type": "code",
      "source": [
        "import os\n",
        "os.chdir('/content/drive/MyDrive/Sub-GC/pretrained')"
      ],
      "metadata": {
        "id": "rkSKpO0GUwz4"
      },
      "execution_count": null,
      "outputs": []
    },
    {
      "cell_type": "code",
      "source": [
        "!zip -r /content/drive/MyDrive/Sub-GC-pretrained_file.zip *"
      ],
      "metadata": {
        "colab": {
          "base_uri": "https://localhost:8080/"
        },
        "id": "uQXDkwG8U6SQ",
        "outputId": "c96e5d28-cf40-46da-ed0d-cdc5fc9c14f9"
      },
      "execution_count": null,
      "outputs": [
        {
          "output_type": "stream",
          "name": "stdout",
          "text": [
            "  adding: full_gc/ (stored 0%)\n",
            "  adding: full_gc/infos_topdown-33000.pkl (deflated 62%)\n",
            "  adding: full_gc/model-33000.pth (deflated 7%)\n",
            "  adding: sub_gc_flickr/ (stored 0%)\n",
            "  adding: sub_gc_flickr/model-16000.pth (deflated 7%)\n",
            "  adding: sub_gc_flickr/infos_topdown-16000.pkl (deflated 62%)\n",
            "  adding: sub_gc_karpathy/ (stored 0%)\n",
            "  adding: sub_gc_karpathy/infos_topdown-60000.pkl (deflated 62%)\n",
            "  adding: sub_gc_karpathy/model-60000.pth (deflated 7%)\n",
            "  adding: sub_gc_MRNN/ (stored 0%)\n",
            "  adding: sub_gc_MRNN/model-60000.pth (deflated 7%)\n",
            "  adding: sub_gc_MRNN/infos_topdown-60000.pkl (deflated 62%)\n",
            "  adding: sub_gc_sup_flickr/ (stored 0%)\n",
            "  adding: sub_gc_sup_flickr/infos_topdown-16000.pkl (deflated 62%)\n",
            "  adding: sub_gc_sup_flickr/model-16000.pth (deflated 7%)\n"
          ]
        }
      ]
    },
    {
      "cell_type": "code",
      "source": [
        "import os\n",
        "os.chdir('/content/drive/MyDrive/Sub-GC/data')\n"
      ],
      "metadata": {
        "id": "iwVUSn5tVe8z"
      },
      "execution_count": null,
      "outputs": []
    },
    {
      "cell_type": "code",
      "source": [
        "!zip -r /content/drive/MyDrive/Sub-GCdata_file.zip *"
      ],
      "metadata": {
        "colab": {
          "base_uri": "https://localhost:8080/"
        },
        "id": "tFScob9cXQGi",
        "outputId": "4ac3dcfc-941b-461f-9791-65d385b72bfa"
      },
      "execution_count": null,
      "outputs": [
        {
          "output_type": "stream",
          "name": "stdout",
          "text": [
            "  adding: COCO_graph_mask_1000_rm_duplicate.zip (stored 0%)\n",
            "  adding: COCO_sg_output_64_part1.zip (stored 0%)\n",
            "  adding: COCO_sg_output_64_part2.zip (stored 0%)\n",
            "  adding: COCO_sg_output_64_part3.zip (stored 0%)\n",
            "  adding: cocotalk.json (deflated 91%)\n",
            "  adding: cocotalk_label.h5 (deflated 79%)\n",
            "  adding: flickr30k_graph_mask_1000_rm_duplicate.zip (stored 0%)\n",
            "  adding: flickr30k_gt_graph_mask.zip (stored 0%)\n",
            "  adding: flickr30k_img_wh.npy (deflated 58%)\n",
            "  adding: flickr30k_sg_output_64.zip (stored 0%)\n",
            "  adding: flickr30ktalk.json (deflated 89%)\n",
            "  adding: flickr30ktalk_label.h5 (deflated 78%)\n",
            "  adding: glove.6B.300d.pt (deflated 9%)\n",
            "  adding: gvd_all_dict.npy (deflated 63%)\n",
            "  adding: sct_dict_test_grouped_gt_box.npy (deflated 98%)\n"
          ]
        }
      ]
    }
  ],
  "metadata": {
    "colab": {
      "provenance": [],
      "authorship_tag": "ABX9TyMx6VEwMOOHFDBfWqbZJrkW",
      "include_colab_link": true
    },
    "kernelspec": {
      "display_name": "Python 3",
      "name": "python3"
    },
    "language_info": {
      "name": "python"
    }
  },
  "nbformat": 4,
  "nbformat_minor": 0
}